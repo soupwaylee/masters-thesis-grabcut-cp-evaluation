{
 "cells": [
  {
   "cell_type": "code",
   "execution_count": 2,
   "metadata": {
    "collapsed": true
   },
   "outputs": [],
   "source": [
    "import cv2 as cv\n",
    "import numpy as np\n",
    "from matplotlib import pyplot as plt\n",
    "\n",
    "from segmentation_utils import clean_phase_image, adaptive_threshold_segmentation, box_segmentation"
   ]
  },
  {
   "cell_type": "code",
   "execution_count": 3,
   "metadata": {
    "pycharm": {
     "name": "#%%\n"
    }
   },
   "outputs": [],
   "source": [
    "images_dict = np.load('testimages.npz')"
   ]
  },
  {
   "cell_type": "code",
   "execution_count": 4,
   "metadata": {
    "pycharm": {
     "name": "#%%\n"
    }
   },
   "outputs": [],
   "source": [
    "lym0 = images_dict.get('lym0')\n",
    "lym0 = clean_phase_image(lym0)\n",
    "clahe = cv.createCLAHE(clipLimit=3, tileGridSize=(10, 10))\n",
    "lym0 = clahe.apply(lym0)\n",
    "\n",
    "lym0_box_mask = box_segmentation([lym0], box_size=(30, 30), threshold_value=50, min_size=30)\n",
    "lym0_adt_mask = adaptive_threshold_segmentation(lym0)"
   ]
  },
  {
   "cell_type": "code",
   "execution_count": 5,
   "metadata": {
    "pycharm": {
     "name": "#%%\n"
    }
   },
   "outputs": [],
   "source": [
    "lym17 = images_dict.get('lym17')\n",
    "lym17 = clean_phase_image(\n",
    "    lym17,\n",
    "    min_intensity=20,\n",
    "    min_size=10,\n",
    "    min_max_opt_height=30,\n",
    "    min_mean_opt_height=30\n",
    ")\n",
    "clahe = cv.createCLAHE(clipLimit=3, tileGridSize=(10, 10))\n",
    "lym17 = clahe.apply(lym17)\n",
    "\n",
    "lym17_box_mask = box_segmentation([lym17], box_size=(30, 30), threshold_value=50, min_size=30)\n",
    "lym17_adt_mask = adaptive_threshold_segmentation(lym17)"
   ]
  },
  {
   "cell_type": "code",
   "execution_count": 6,
   "metadata": {
    "pycharm": {
     "name": "#%%\n"
    }
   },
   "outputs": [],
   "source": [
    "neu0 = images_dict.get('neu0')\n",
    "neu0 = clean_phase_image(\n",
    "    neu0,\n",
    "    min_intensity=20,\n",
    "    min_size=10,\n",
    "    min_max_opt_height=30,\n",
    "    min_mean_opt_height=30\n",
    ")\n",
    "clahe = cv.createCLAHE(clipLimit=3, tileGridSize=(10, 10))\n",
    "neu0 = clahe.apply(neu0)\n",
    "\n",
    "neu0_box_mask = box_segmentation([neu0], box_size=(30, 30), threshold_value=50, min_size=30)\n",
    "neu0_adt_mask = adaptive_threshold_segmentation(neu0)"
   ]
  },
  {
   "cell_type": "code",
   "execution_count": 7,
   "metadata": {
    "pycharm": {
     "name": "#%%\n"
    }
   },
   "outputs": [],
   "source": [
    "neu12 = images_dict.get('neu12')\n",
    "neu12 = clean_phase_image(\n",
    "    neu12,\n",
    "    min_intensity=20,\n",
    "    min_size=10,\n",
    "    min_max_opt_height=30,\n",
    "    min_mean_opt_height=30\n",
    ")\n",
    "clahe = cv.createCLAHE(clipLimit=3, tileGridSize=(10, 10))\n",
    "neu12 = clahe.apply(neu12)\n",
    "\n",
    "neu12_box_mask = box_segmentation([neu12], box_size=(35, 35), threshold_value=50, min_size=30)\n",
    "neu12_adt_mask = adaptive_threshold_segmentation(neu12)"
   ]
  },
  {
   "cell_type": "code",
   "execution_count": 8,
   "metadata": {
    "pycharm": {
     "name": "#%%\n"
    }
   },
   "outputs": [],
   "source": [
    "neu90 = images_dict.get('neu90')\n",
    "neu90 = clean_phase_image(\n",
    "    neu90,\n",
    "    min_intensity=20,\n",
    "    min_size=10,\n",
    "    min_max_opt_height=30,\n",
    "    min_mean_opt_height=30\n",
    ")\n",
    "clahe = cv.createCLAHE(clipLimit=3, tileGridSize=(10, 10))\n",
    "neu90 = clahe.apply(neu90)\n",
    "\n",
    "neu90_box_mask = box_segmentation([neu90], box_size=(35, 35), threshold_value=50, min_size=30)\n",
    "neu90_adt_mask = adaptive_threshold_segmentation(neu90)"
   ]
  },
  {
   "cell_type": "code",
   "execution_count": 9,
   "metadata": {
    "pycharm": {
     "name": "#%%\n"
    }
   },
   "outputs": [],
   "source": [
    "agg17 = images_dict.get('agg17')\n",
    "agg17 = clean_phase_image(\n",
    "    agg17,\n",
    "    min_intensity=30,\n",
    "    min_size=10,\n",
    "    min_max_opt_height=100,\n",
    "    min_mean_opt_height=100\n",
    ")\n",
    "clahe = cv.createCLAHE(clipLimit=3, tileGridSize=(10, 10))\n",
    "agg17 = clahe.apply(agg17)\n",
    "\n",
    "agg17_box_mask = box_segmentation([agg17], box_size=(38, 38), threshold_value=50, min_size=30)\n",
    "agg17_adt_mask = adaptive_threshold_segmentation(agg17, filter_size=9)"
   ]
  },
  {
   "cell_type": "code",
   "execution_count": 10,
   "metadata": {
    "pycharm": {
     "name": "#%%\n"
    }
   },
   "outputs": [],
   "source": [
    "agg23 = images_dict.get('agg23')\n",
    "agg23 = clean_phase_image(\n",
    "    agg23,\n",
    "    min_intensity=30,\n",
    "    min_size=10,\n",
    "    min_max_opt_height=100,\n",
    "    min_mean_opt_height=100\n",
    ")\n",
    "clahe = cv.createCLAHE(clipLimit=3, tileGridSize=(10, 10))\n",
    "agg23 = clahe.apply(agg23)\n",
    "\n",
    "agg23_box_mask = box_segmentation([agg23], box_size=(35, 35), threshold_value=50, min_size=40)\n",
    "agg23_adt_mask = adaptive_threshold_segmentation(agg23)"
   ]
  },
  {
   "cell_type": "code",
   "execution_count": 11,
   "metadata": {
    "pycharm": {
     "name": "#%%\n"
    }
   },
   "outputs": [],
   "source": [
    "agg185 = images_dict.get('agg185')\n",
    "agg185 = clean_phase_image(\n",
    "    agg185,\n",
    "    min_intensity=30,\n",
    "    min_size=10,\n",
    "    min_max_opt_height=90,\n",
    "    min_mean_opt_height=80\n",
    ")\n",
    "# clahe = cv.createCLAHE(clipLimit=3, tileGridSize=(10, 10))\n",
    "# agg185 = clahe.apply(agg185)\n",
    "\n",
    "agg185_box_mask = box_segmentation([agg185], box_size=(50, 50), threshold_value=50, min_size=30)\n",
    "agg185_adt_mask = adaptive_threshold_segmentation(agg185)"
   ]
  },
  {
   "cell_type": "code",
   "execution_count": 12,
   "metadata": {
    "pycharm": {
     "name": "#%%\n"
    }
   },
   "outputs": [],
   "source": [
    "neurblas5 = images_dict.get('neurblas5')\n",
    "neurblas5 = clean_phase_image(\n",
    "    neurblas5,\n",
    "    min_intensity=30,\n",
    "    min_size=10,\n",
    "    min_max_opt_height=90,\n",
    "    min_mean_opt_height=90\n",
    ")\n",
    "clahe = cv.createCLAHE(clipLimit=3, tileGridSize=(10, 10))\n",
    "neurblas5 = clahe.apply(neurblas5)\n",
    "\n",
    "neurblas5_box_mask = box_segmentation([neurblas5], box_size=(60, 60), threshold_value=20, min_size=30)\n",
    "neurblas5_adt_mask = adaptive_threshold_segmentation(neurblas5)"
   ]
  },
  {
   "cell_type": "code",
   "execution_count": 13,
   "metadata": {
    "pycharm": {
     "name": "#%%\n"
    }
   },
   "outputs": [],
   "source": [
    "neurblas10 = images_dict.get('neurblas10')\n",
    "neurblas10 = clean_phase_image(\n",
    "    neurblas10,\n",
    "    min_intensity=25,\n",
    "    min_size=80,\n",
    "    min_max_opt_height=100,\n",
    "    min_mean_opt_height=100\n",
    ")\n",
    "clahe = cv.createCLAHE(clipLimit=3, tileGridSize=(10, 10))\n",
    "neurblas10 = clahe.apply(neurblas10)\n",
    "\n",
    "neurblas10_box_mask = box_segmentation([neurblas10], box_size=(50, 50), threshold_value=40, min_size=40)\n",
    "neurblas10_adt_mask = adaptive_threshold_segmentation(neurblas10, filter_size=3)"
   ]
  },
  {
   "cell_type": "code",
   "execution_count": 14,
   "metadata": {
    "pycharm": {
     "name": "#%%\n"
    }
   },
   "outputs": [],
   "source": [
    "neurblas16 = images_dict.get('neurblas16')\n",
    "neurblas16 = clean_phase_image(\n",
    "    neurblas16,\n",
    "    min_intensity=25,\n",
    "    min_size=80,\n",
    "    min_max_opt_height=100,\n",
    "    min_mean_opt_height=100\n",
    ")\n",
    "clahe = cv.createCLAHE(clipLimit=3, tileGridSize=(10, 10))\n",
    "neurblas16 = clahe.apply(neurblas16)\n",
    "\n",
    "neurblas16_box_mask = box_segmentation([neurblas16], box_size=(50, 50), threshold_value=100, min_size=40)\n",
    "neurblas16_adt_mask = adaptive_threshold_segmentation(neurblas16, filter_size=15)"
   ]
  },
  {
   "cell_type": "code",
   "execution_count": 15,
   "metadata": {
    "pycharm": {
     "name": "#%%\n"
    }
   },
   "outputs": [],
   "source": [
    "normal2 = images_dict.get('normal2')\n",
    "normal2 = clean_phase_image(\n",
    "    normal2,\n",
    "    min_intensity=30,\n",
    "    min_size=80,\n",
    "    min_max_opt_height=100,\n",
    "    min_mean_opt_height=100\n",
    ")\n",
    "clahe = cv.createCLAHE(clipLimit=3, tileGridSize=(10, 10))\n",
    "normal2 = clahe.apply(normal2)\n",
    "\n",
    "normal2_box_mask = box_segmentation([normal2], box_size=(50, 50), threshold_value=100, min_size=40)\n",
    "normal2_adt_mask = adaptive_threshold_segmentation(normal2, filter_size=5)"
   ]
  },
  {
   "cell_type": "code",
   "execution_count": 16,
   "metadata": {
    "pycharm": {
     "name": "#%%\n"
    }
   },
   "outputs": [],
   "source": [
    "normal4 = images_dict.get('normal4')\n",
    "normal4 = clean_phase_image(\n",
    "    normal4,\n",
    "    min_intensity=57,\n",
    "    min_size=80,\n",
    "    min_max_opt_height=100,\n",
    "    min_mean_opt_height=100\n",
    ")\n",
    "clahe = cv.createCLAHE(clipLimit=3, tileGridSize=(10, 10))\n",
    "normal4 = clahe.apply(normal4)\n",
    "\n",
    "normal4_box_mask = box_segmentation([normal4], box_size=(60, 60), threshold_value=100, min_size=40)\n",
    "normal4_adt_mask = adaptive_threshold_segmentation(normal4, filter_size=15)"
   ]
  },
  {
   "cell_type": "code",
   "execution_count": 17,
   "metadata": {
    "pycharm": {
     "name": "#%%\n"
    }
   },
   "outputs": [],
   "source": [
    "# results = global_threshold_segmentation([lym17], box_size=[30, 30], threshold_value=50, min_size=30)[0]\n",
    "#\n",
    "# plt.imshow(results[0])"
   ]
  },
  {
   "cell_type": "code",
   "execution_count": 18,
   "metadata": {
    "pycharm": {
     "name": "#%%\n"
    }
   },
   "outputs": [
    {
     "data": {
      "text/plain": [
       "<matplotlib.image.AxesImage at 0x1205f0d30>"
      ]
     },
     "execution_count": 18,
     "metadata": {},
     "output_type": "execute_result"
    },
    {
     "data": {
      "image/png": "[encoded data removed]",
      "text/plain": [
       "<Figure size 1440x1440 with 3 Axes>"
      ]
     },
     "metadata": {
      "needs_background": "light"
     },
     "output_type": "display_data"
    }
   ],
   "source": [
    "fig, axs = plt.subplots(1, 3, figsize=(20, 20))\n",
    "axs[0].set_title('Target (cleaned)')\n",
    "axs[0].imshow(neu12)\n",
    "\n",
    "axs[1].set_title('Box Segmentation')\n",
    "axs[1].imshow(neu12_box_mask[0])\n",
    "\n",
    "axs[2].set_title('Adaptive Threshold')\n",
    "axs[2].imshow(neu12_adt_mask)"
   ]
  },
  {
   "cell_type": "code",
   "execution_count": 19,
   "metadata": {
    "pycharm": {
     "name": "#%%\n"
    }
   },
   "outputs": [],
   "source": [
    "lym0_seg_data = np.asarray([lym0, lym0_box_mask[0], np.where(lym0_adt_mask== 255, 1, 0).astype(np.uint8)], dtype=np.uint8)\n",
    "lym17_seg_data = np.asarray([lym17, lym17_box_mask[0], np.where(lym17_adt_mask== 255, 1, 0).astype(np.uint8)], dtype=np.uint8)\n",
    "\n",
    "neu0_seg_data = np.asarray([neu0, neu0_box_mask[0], np.where(neu0_adt_mask== 255, 1, 0).astype(np.uint8)], dtype=np.uint8)\n",
    "neu12_seg_data = np.asarray([neu12, neu12_box_mask[0], np.where(neu12_adt_mask== 255, 1, 0).astype(np.uint8)], dtype=np.uint8)\n",
    "neu90_seg_data = np.asarray([neu90, neu90_box_mask[0], np.where(neu90_adt_mask== 255, 1, 0).astype(np.uint8)], dtype=np.uint8)\n",
    "\n",
    "agg17_seg_data = np.asarray([agg17, agg17_box_mask[0], np.where(agg17_adt_mask== 255, 1, 0).astype(np.uint8)], dtype=np.uint8)\n",
    "agg23_seg_data = np.asarray([agg23, agg23_box_mask[0], np.where(agg23_adt_mask== 255, 1, 0).astype(np.uint8)], dtype=np.uint8)\n",
    "agg185_seg_data = np.asarray([agg185, agg185_box_mask[0], np.where(agg185_adt_mask== 255, 1, 0).astype(np.uint8)], dtype=np.uint8)\n",
    "\n",
    "neurblas5_seg_data = np.asarray([neurblas5, neurblas5_box_mask[0], np.where(neurblas5_adt_mask== 255, 1, 0).astype(np.uint8)], dtype=np.uint8)\n",
    "neurblas10_seg_data = np.asarray([neurblas10, neurblas10_box_mask[0], np.where(neurblas10_adt_mask== 255, 1, 0).astype(np.uint8)], dtype=np.uint8)\n",
    "neurblas16_seg_data = np.asarray([neurblas16, neurblas16_box_mask[0], np.where(neurblas16_adt_mask== 255, 1, 0).astype(np.uint8)], dtype=np.uint8)\n",
    "normal2_seg_data = np.asarray([normal2, normal2_box_mask[0], np.where(normal2_adt_mask== 255, 1, 0).astype(np.uint8)], dtype=np.uint8)\n",
    "normal4_seg_data = np.asarray([normal4, normal4_box_mask[0], np.where(normal4_adt_mask== 255, 1, 0).astype(np.uint8)], dtype=np.uint8)"
   ]
  },
  {
   "cell_type": "code",
   "execution_count": 20,
   "metadata": {
    "pycharm": {
     "name": "#%%\n"
    }
   },
   "outputs": [],
   "source": [
    "np.savez(\n",
    "    'testimages_seg.npz',\n",
    "     lym0=lym0_seg_data,\n",
    "     lym17=lym17_seg_data,\n",
    "\n",
    "     neu0=neu0_seg_data,\n",
    "     neu12=neu12_seg_data,\n",
    "     neu90=neu90_seg_data,\n",
    "\n",
    "     agg17=agg17_seg_data,\n",
    "     agg23=agg23_seg_data,\n",
    "     agg185=agg185_seg_data,\n",
    "\n",
    "     neurblas5=neurblas5_seg_data,\n",
    "     neurblas10=neurblas10_seg_data,\n",
    "     neurblas16=neurblas16_seg_data,\n",
    "     normal2=normal2_seg_data,\n",
    "     normal4=normal4_seg_data\n",
    " )"
   ]
  },
  {
   "cell_type": "code",
   "execution_count": 20,
   "metadata": {
    "pycharm": {
     "name": "#%%\n"
    }
   },
   "outputs": [],
   "source": []
  }
 ],
 "metadata": {
  "kernelspec": {
   "display_name": "Python 3",
   "language": "python",
   "name": "python3"
  },
  "language_info": {
   "codemirror_mode": {
    "name": "ipython",
    "version": 3
   },
   "file_extension": ".py",
   "mimetype": "text/x-python",
   "name": "python",
   "nbconvert_exporter": "python",
   "pygments_lexer": "ipython3",
   "version": "3.9.5"
  }
 },
 "nbformat": 4,
 "nbformat_minor": 1
}